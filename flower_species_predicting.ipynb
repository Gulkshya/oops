{
  "nbformat": 4,
  "nbformat_minor": 0,
  "metadata": {
    "colab": {
      "provenance": [],
      "authorship_tag": "ABX9TyN2PXD6smlRMnKUgHEYCGZv",
      "include_colab_link": true
    },
    "kernelspec": {
      "name": "python3",
      "display_name": "Python 3"
    },
    "language_info": {
      "name": "python"
    }
  },
  "cells": [
    {
      "cell_type": "markdown",
      "metadata": {
        "id": "view-in-github",
        "colab_type": "text"
      },
      "source": [
        "<a href=\"https://colab.research.google.com/github/Gulkshya/oops/blob/main/flower_species_predicting.ipynb\" target=\"_parent\"><img src=\"https://colab.research.google.com/assets/colab-badge.svg\" alt=\"Open In Colab\"/></a>"
      ]
    },
    {
      "cell_type": "code",
      "execution_count": null,
      "metadata": {
        "id": "OOp55PBVPxgP"
      },
      "outputs": [],
      "source": [
        "# Step 1: Import the necessary libraries\n",
        "import numpy as np\n",
        "import pandas as pd\n",
        "from sklearn.model_selection import train_test_split\n",
        "from sklearn.linear_model import LinearRegression\n",
        "from sklearn.metrics import mean_squared_error\n",
        "\n",
        "# Step 2: Prepare the data (example data for house prices)\n",
        "# Let's say the data includes the size of the house (in square feet) and the price\n",
        "data = {\n",
        "    'Size': [800, 1200, 1500, 1800, 2400, 3000, 3500],\n",
        "    'Price': [200000, 250000, 300000, 350000, 450000, 500000, 550000]\n",
        "}\n",
        "df = pd.DataFrame(data)\n",
        "\n",
        "# Step 3: Create the feature (X) and target (y)\n",
        "X = df[['Size']]  # Features (independent variable) - house size\n",
        "y = df['Price']   # Target (dependent variable) - house price\n",
        "\n",
        "# Step 4: Split the data into training and testing sets\n",
        "X_train, X_test, y_train, y_test = train_test_split(X, y, test_size=0.2, random_state=42)\n",
        "\n",
        "# Step 5: Create the hypothesis (Linear Regression model)\n",
        "model = LinearRegression()\n",
        "\n",
        "# Step 6: Train the model\n",
        "model.fit(X_train, y_train)\n",
        "\n",
        "# Step 7: Make predictions\n",
        "y_pred = model.predict(X_test)\n",
        "\n",
        "# Step 8: Evaluate the model\n",
        "mse = mean_squared_error(y_test, y_pred)\n",
        "print(f\"Mean Squared Error: {mse}\")\n",
        "\n",
        "# Let's check the coefficients (the learned hypothesis)\n",
        "print(f\"Model Coefficients: {model.coef_}\")\n",
        "print(f\"Model Intercept: {model.intercept_}\")\n",
        "\n",
        "# Example of prediction for a new house size (e.g., 2500 square feet)\n",
        "predicted_price = model.predict([[2500]])\n",
        "print(f\"Predicted Price for a house of size 2500 sqft: ${predicted_price[0]:,.2f}\")\n"
      ]
    }
  ]
}