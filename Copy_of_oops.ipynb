{
  "nbformat": 4,
  "nbformat_minor": 0,
  "metadata": {
    "colab": {
      "provenance": [],
      "authorship_tag": "ABX9TyPvn4Lc3x37zoxIBwMFoZOt",
      "include_colab_link": true
    },
    "kernelspec": {
      "name": "python3",
      "display_name": "Python 3"
    },
    "language_info": {
      "name": "python"
    }
  },
  "cells": [
    {
      "cell_type": "markdown",
      "metadata": {
        "id": "view-in-github",
        "colab_type": "text"
      },
      "source": [
        "<a href=\"https://colab.research.google.com/github/Gulkshya/oops/blob/main/Copy_of_oops.ipynb\" target=\"_parent\"><img src=\"https://colab.research.google.com/assets/colab-badge.svg\" alt=\"Open In Colab\"/></a>"
      ]
    },
    {
      "cell_type": "code",
      "execution_count": null,
      "metadata": {
        "id": "R-Pk9HmMC6Lp"
      },
      "outputs": [],
      "source": []
    },
    {
      "cell_type": "markdown",
      "source": [
        "# NAME:     GULKSHYA\n",
        "# GMAIL:    gulkshya@gmail.com\n",
        "# ASSIGNMENT: OOPS"
      ],
      "metadata": {
        "id": "NjRq-i9PLex_"
      }
    },
    {
      "cell_type": "markdown",
      "source": [
        "# 1.what is an oops?\n",
        "\n",
        ">>Object-Oriented Programming (OOP) in Python is a programming style that uses classes and objects to create reusable code and model real-world concepts. OOP is a popular choice for many software projects because it allows you to: Create reusable code, Model real-world concepts more closely, and Keep your code properly structured and readable.\n",
        "\n",
        "# 2.what is a class in oops?\n",
        "\n",
        ">>A class in Python is a user-defined template for creating objects. It bundles data and functions together, making it easier to manage and use them.\n",
        "\n",
        "# 3.what is an object in oops?\n",
        "\n",
        ">>An Object is an instance of a Class. It represents a specific implementation of the class and holds its own data.\n",
        "\n",
        "# 4.what is the difference b/w abstraction and encapsulation?\n",
        "\n",
        ">>implementation:\n",
        ">>Abstraction can be implemented using abstract classes or interfaces. Encapsulation can be implemented using access modifiers like private, protected, and public.\n",
        "\n",
        ">>Problem solving:\n",
        ">>Problems in abstraction are solved at the interface level, while problems in encapsulation are solved at the implementation level.\n",
        "\n",
        ">>Reusability:\n",
        ">>Abstraction encourages reusability by defining generic blueprints.\n",
        "\n",
        ">>Maintenance:\n",
        ">>Abstraction simplifies updates to the system by separating the \"what\" from the \"how\".\n",
        "\n",
        "# 5.what are dunder methode in python?\n",
        "\n",
        ">>Python Magic methods are the methods starting and ending with double underscores ‘__’. They are defined by built-in classes in Python and commonly used for operator overloading.\n",
        "\n",
        ">>They are also called Dunder methods, Dunder here means “Double Under (Underscores)”.\n",
        "\n",
        ">>Python Magic Methods\n",
        "Built in classes define many magic methods, dir() function can show you magic methods inherited by a class.\n"
      ],
      "metadata": {
        "id": "ZtIyiwN2Aij6"
      }
    },
    {
      "cell_type": "markdown",
      "source": [
        "# 6.Explain the concept of inheritence in oops?\n",
        "\n",
        ">>In object-oriented programming (OOP), inheritance is a fundamental concept that allows a class to inherit properties and behaviors from another class:\n",
        "\n",
        ">>Explanation\n",
        "\n",
        ">>A class that inherits from another class is called a subclass or derived class, and the class it inherits from is called the superclass or parent class. The subclass can extend the functionality of the superclass by adding new features or overriding existing ones.\n",
        "\n",
        "# 7.what is polymorphism in oops?\n",
        "\n",
        ">>Polymorphism in object-oriented programming (OOP) is the ability to use the same interface to access objects of different types. It allows methods in different classes to share the same name but perform different tasks.\n",
        "\n",
        ">>Polymorphism is a core concept in OOP that complements other principles like inheritance and encapsulation to create robust applications.\n",
        "\n",
        "\n"
      ],
      "metadata": {
        "id": "JboW5idhYor1"
      }
    },
    {
      "cell_type": "markdown",
      "source": [
        "# 8.how encapsulation achieved in python?\n",
        "\n",
        ">>In Python, encapsulation is achieved by using access modifiers and naming conventions to restrict access to a class's methods and variables:\n",
        "\n",
        ">>Access modifiers:\n",
        " Limit access to class members from outside the class. Python supports three types of access modifiers:\n",
        "\n",
        ">>Public:\n",
        " By default, all attributes and methods in a Python class are public, meaning they can be accessed from outside the class.\n",
        "\n",
        ">>Private:\n",
        " Private data members are only accessible within a class and are denoted with a double underscore prefix before their name.\n",
        "\n",
        ">>Protected:\n",
        " Protected data members are accessible within a class and their subclasses and are denoted by a single underscore prefix before the name.\n",
        "\n",
        ">>Naming conventions:\n",
        " Used to distinguish between protected and private members.\n",
        "\n",
        "\n"
      ],
      "metadata": {
        "id": "qtfjUMm9ZuEe"
      }
    },
    {
      "cell_type": "markdown",
      "source": [
        "# 9.what is a constructor in python?\n",
        "\n",
        ">>A constructor in Python is a special method that initializes and creates an object instance of a class. It is a fundamental building block of Python and is used to establish the core functionalities of an object and set initial values to its data members.\n",
        "\n",
        "# 10.what are class and static methode in python?\n",
        "\n",
        ">>Class methods\n",
        "These methods are attached to the class, not the class's objects. They can access or modify the class's state, which impacts every instance of the class. Class methods can also be used to create new instances of the class.\n",
        "\n",
        " >>Static methods\n",
        "These methods are also attached to the class, but they can't access or modify the class's state. Static methods can be called without an object for the class.\n",
        "\n",
        "\n",
        "\n",
        "\n",
        "\n",
        "\n",
        "\n",
        "\n",
        "\n",
        "\n",
        "\n",
        "\n",
        "\n",
        "\n",
        "\n",
        "\n",
        "\n",
        "\n",
        "\n",
        "\n",
        "\n",
        "\n",
        "\n",
        "\n",
        "\n",
        "\n",
        "\n",
        "\n",
        "\n",
        "\n",
        "\n",
        "\n",
        "\n",
        "\n",
        "\n"
      ],
      "metadata": {
        "id": "0f4xPYdGBU9S"
      }
    },
    {
      "cell_type": "markdown",
      "source": [
        "# 11.what is the methode overloading in python?\n",
        "\n",
        ">>Method overloading in Python is a feature that allows a single function to work with different input types or parameters. It's a primary concept in object-oriented programming in Python\n",
        "\n",
        "# 12.what is methode overloading in oop?\n",
        "\n",
        ">>n object-oriented programming (OOP), method overloading is the ability to declare a method with the same name multiple times, as long as each method has different input parameters. This technique can improve code readability and flexibility.\n",
        "\n",
        "# 13.what is a property decorator in python?\n",
        "\n",
        ">>A decorator feature in Python wraps in a function, appends several functionalities to existing code and then returns it. Methods and functions are known to be callable as they can be called. Therefore, a decorator is also a callable that returns callable. This is also known as metaprogramming as at compile time a section of program alters another section of the program.\n",
        "\n",
        "# 14.why is polymorphism important in opps?\n",
        "\n",
        ">>Polymorphism is an important feature of object-oriented programming (OOP) because it allows programmers to perform a single action in multiple ways, and it improves the readability and scalability of code:\n",
        "\n",
        ">>Code reusability\n",
        "Polymorphism allows programmers to reuse the same code for different situations, which saves time and speeds up development.\n",
        "\n",
        ">>Improved maintainability\n",
        "Polymorphism makes it easier to extend and maintain code because objects of different kinds can share the same methods.\n",
        "\n",
        ">>Simplifies complex systems\n",
        "Polymorphism allows different objects to be handled through a single interface, which simplifies the design of complex systems.\n",
        "\n",
        ">>Better readability\n",
        "Polymorphism can improve code readability, especially with compile-time polymorphism, which uses method overloading to allow functions to share the same name but have different arguments.\n",
        "\n",
        ">>Extensibility\n",
        "Polymorphism allows developers to easily create a new class derived from an existing class, and use the code written without modification.\n",
        "\n",
        ">>Reduces redundancy\n",
        "Polymorphism helps to reduce redundancy in code and removes the need to write similar code repeatedly.\n",
        "\n",
        "\n",
        "\n",
        "\n",
        "\n"
      ],
      "metadata": {
        "id": "6QQ7sJvMCxKO"
      }
    },
    {
      "cell_type": "markdown",
      "source": [
        "# 15.what is an abstract class in python?\n",
        "\n",
        ">>In Python, an abstract class is a class that cannot be instantiated on its own and is used as a blueprint for other classes:\n",
        "\n",
        ">>Purpose:\n",
        "  Abstract classes define methods that must be implemented by subclasses, ensuring a consistent interface while allowing subclasses to provide specific implementations.\n",
        "\n",
        "#16.what are the advantages of oops?  \n",
        "\n",
        ">>Object-oriented programming (OOP) has many advantages, including:\n",
        "\n",
        ">>Modularity:\n",
        "\n",
        ">>OOP divides a program into separate modules or classes, making it easier to manage, maintain, and understand.\n",
        "\n",
        ">>Reusability:\n",
        "\n",
        ">>OOP allows developers to reuse code through inheritance and composition, reducing redundancy and effort.\n",
        "\n",
        ">>Encapsulation:\n",
        "\n",
        ">>OOP hides implementation details of classes, making data more secure and reducing the likelihood of misuse.\n",
        "\n",
        ">>Polymorphism:\n",
        "\n",
        ">>OOP allows methods to behave differently based on the object invoking them, enabling flexibility and scalability.\n",
        "\n",
        ">>Abstraction:\n",
        "\n",
        ">>OOP simplifies complex systems by modeling classes appropriate to the problem domain.\n",
        "\n",
        ">>Security:\n",
        "\n",
        ">>OOP ensures minimal exposure using encapsulation, making the code secure and free of unintended data corruption.\n",
        "\n",
        ">>Collaboration:\n",
        "\n",
        ">>OOP allows developers to divide a complex software system into small, manageable objects, which can be developed, tested, and maintained independently.\n",
        "\n",
        ">>Scalability:\n",
        "\n",
        ">>OOP scales well for evolving software needs or increased application size.\n",
        "\n",
        ">>System downtime:\n",
        "\n",
        ">>OOP reduces system downtime during upgrades or changes.\n",
        ">>OOP is a top choice for developers who want to keep their code efficient and easy to work with. It's especially useful in fields like software development, data science, and game design.\n",
        "\n"
      ],
      "metadata": {
        "id": "ny7SEl7ctUHG"
      }
    },
    {
      "cell_type": "markdown",
      "source": [
        "# 17.what are the difference b/w a class variable and a instance variable?\n",
        "\n",
        ">>The main difference between a class variable and an instance variable is that a class variable is shared across all instances of a class, while an instance variable is unique to a specific instance of a class:\n",
        "\n",
        ">>Class variables:\n",
        "\n",
        ">>A single copy of a class variable exists, regardless of how many instances of the class are created. Class variables are shared between a class and all of its subclasses.\n",
        "\n",
        ">>Instance variables:\n",
        "\n",
        ">>An instance variable is created when an object is instantiated. Instance variables are unique to a specific instance of a class and are not shared between instances.\n",
        "\n",
        ">>Class variables are a special type of class attribute, also known as a class property, field, or data member.\n",
        "\n",
        "# 18.what is multiple inheritence in python?\n",
        "\n",
        ">>In Python, multiple inheritance is a feature that allows a child class to inherit properties from more than one base class:\n",
        "\n",
        ">>To inherit from multiple parent classes, the names of the parent classes are written inside the brackets of the child class. For example, a class called Bat could inherit from the superclasses Mammal and WingedAnimal.\n",
        "\n",
        ">>Multiple inheritance is different from single inheritance, where an object or class can only inherit from one parent object or class.\n",
        "\n"
      ],
      "metadata": {
        "id": "NUhFGiHuvW03"
      }
    },
    {
      "cell_type": "markdown",
      "source": [
        "# 19.Explain the purpose of \"\"--str--' and '--repr--\" in python?\n",
        "\n",
        ">>In Python, __str__ and __repr__ are methods that are used to create string representations of objects:\n",
        "\n",
        ">>str()\n",
        "\n",
        ">>Used to create informal string representations that are human-readable and suitable for displaying to users.\n",
        "\n",
        ">>repr()\n",
        "\n",
        ">>Used to create formal string representations that are unambiguous and machine-friendly, and can be used to recreate the original object\n",
        "The str() and repr() built-in functions use __str__ and __repr__ internally, respectively:\n",
        "\n"
      ],
      "metadata": {
        "id": "-k97KL2ewmr8"
      }
    },
    {
      "cell_type": "markdown",
      "source": [
        "# 20. what is the significance of 'super()' function in python?\n",
        "\n",
        ">>The super() function is used to give access to methods and properties of a parent or sibling class. The super() function returns an object that represents the parent class.\n",
        "\n",
        "# 21.what is the significance of __del__ methode in python?\n",
        "\n",
        ">>The __del__() method in Python is a destructor method that is called when an object is about to be destroyed. It is used to perform cleanup, release resources, or other finalization actions.\n",
        "\n",
        "# 22.what is the difference b/w @staticmehode and @classmethode in python?\n",
        "\n",
        ">>The difference between the Class method and the static method is:\n",
        "\n",
        ">>A class method takes cls as the first parameter while a static method needs no specific parameters.\n",
        "\n",
        ">>A class method can access or modify the class state while a static method can’t access or modify it.\n",
        "\n",
        ">>In general, static methods know nothing about the class state. They are utility-type methods that take some parameters and work upon those parameters.\n",
        "\n",
        ">> On the other hand class methods must have class as a parameter.\n",
        "\n",
        ">>We use @classmethod decorator in python to create a class method and we use @staticmethod decorator to create a static method in python.\n",
        "\n"
      ],
      "metadata": {
        "id": "3R2YWDGDP_uh"
      }
    },
    {
      "cell_type": "markdown",
      "source": [
        "# 23. how does polymorphism work with inheritence?\n",
        "\n",
        ">>Polymorphism and inheritance in Python work together in a few ways:\n",
        ">>Method overriding:\n",
        "\n",
        ">>In Python, a child class can redefine a method that it inherits from its parent class. This is called method overriding, and it's useful when the inherited method isn't appropriate for the child class. For example, if a child class inherits the endangered() method from its parent class, it can override it to provide more specific information.\n",
        "\n",
        ">>Common interface:\n",
        "\n",
        ">>Inheritance can be used to define a common interface for a group of classes. For example, a shape class can define a common draw() method, and each shape subclass can implement its own version of the method. This allows you to iterate through a list of shapes and call the draw() method on each shape, regardless of its specific type.\n",
        "\n",
        ">>Multiple inheritance:\n",
        "\n",
        ">>A child class can inherit from multiple parent classes. This gives the child class access to methods from all of its parent classes.\n",
        "Other ways to achieve polymorphism in Python include using built-in methods and the isinstance() function.\n",
        "\n",
        "\n"
      ],
      "metadata": {
        "id": "-Yj6isdrSABt"
      }
    },
    {
      "cell_type": "markdown",
      "source": [
        "## 24. what is methode changing in python oop?\n",
        "\n",
        ">>Method chaining is a powerful technique in Python that enables us to perform a sequence of operations on an object in a concise and readable manner. By returning the modified object from each method, we can chain multiple method calls together, making our code more expressive and efficient.\n",
        "\n",
        "# 25.what is the ourpose of the call methode in pyhon?\n",
        "\n",
        ">>The __call__ method is part of Python build-in methods also called dunder or magic methods because have two prefixes and suffix underscores in the method name. The main idea of __call__ method is to write a class and invoke it like a function. You can refer to it as callable object.\n",
        "\n",
        "\n",
        "```\n",
        "#          #  Practical Question         ****\n",
        "\n",
        "\n"
      ],
      "metadata": {
        "id": "K7qqvXyVTPRL"
      }
    },
    {
      "cell_type": "markdown",
      "source": [
        "1.create a parent class animal with a methofe speak() that print a genric message.\n"
      ],
      "metadata": {
        "id": "lGfxNQO6XzsH"
      }
    },
    {
      "cell_type": "code",
      "source": [
        "# Parent class Animal\n",
        "class Animal:\n",
        "    def speak(self):\n",
        "        print(\"The animal makes a sound.\")\n",
        "\n",
        "# Example usage\n",
        "if __name__ == \"__main__\":\n",
        "    generic_animal = Animal()\n",
        "    generic_animal.speak()"
      ],
      "metadata": {
        "id": "qMJ1A2d-XPTg"
      },
      "execution_count": null,
      "outputs": []
    },
    {
      "cell_type": "markdown",
      "source": [
        "**2.write a program to create an abstract class shape with a methode area() derive a class circle and rectangle from it and impliment the area() methode in both?**"
      ],
      "metadata": {
        "id": "Y2fhTASaXbVA"
      }
    },
    {
      "cell_type": "code",
      "source": [
        "from abc import ABC, abstractmethod\n",
        "\n",
        "# Abstract class Shape\n",
        "class Shape(ABC):\n",
        "    @abstractmethod\n",
        "    def area(self):\n",
        "        pass\n",
        "\n",
        "# Derived class Circle\n",
        "class Circle(Shape):\n",
        "    def __init__(self, radius):\n",
        "        self.radius = radius\n",
        "\n",
        "    def area(self):\n",
        "        return 3.14159 * self.radius * self.radius\n",
        "\n",
        "# Derived class Rectangle\n",
        "class Rectangle(Shape):\n",
        "    def __init__(self, width, height):\n",
        "        self.width = width\n",
        "        self.height = height\n",
        "\n",
        "    def area(self):\n",
        "        return self.width * self.height\n",
        "\n",
        "# Example usage\n",
        "if __name__ == \"__main__\":\n",
        "    # Create a Circle object\n",
        "    circle = Circle(5)\n",
        "    print(f\"Area of the circle with radius 5: {circle.area()}\")\n",
        "\n",
        "    # Create a Rectangle object\n",
        "    rectangle = Rectangle(4, 6)\n",
        "    print(f\"Area of the rectangle with width 4 and height 6: {rectangle.area()}\")\n",
        "\n",
        "\n"
      ],
      "metadata": {
        "id": "QrFquURhYx_v"
      },
      "execution_count": null,
      "outputs": []
    },
    {
      "cell_type": "markdown",
      "source": [
        "**3.impliment a multilevel inheritence scenario where a class vehicle has an atribute type. derive a class car and further derive a class electric car that adds a bettary attribute.**\n"
      ],
      "metadata": {
        "id": "epkoTpE3Y5GG"
      }
    },
    {
      "cell_type": "code",
      "source": [
        "class Vehicle:\n",
        "    def __init__(self, vehicle_type):\n",
        "        self.type = vehicle_type\n",
        "\n",
        "class Car(Vehicle):\n",
        "    def __init__(self, vehicle_type, brand):\n",
        "        super().__init__(vehicle_type)\n",
        "        self.brand = brand\n",
        "\n",
        "class ElectricCar(Car):\n",
        "    def __init__(self, vehicle_type, brand, battery_capacity):\n",
        "        super().__init__(vehicle_type, brand)\n",
        "        self.battery_capacity = battery_capacity\n",
        "  # Example usage for Vehicle, Car, and ElectricCar:\n",
        "vehicle = Vehicle(\"General\")\n",
        "car = Car(\"Car\", \"Toyota\")\n",
        "electric_car = ElectricCar(\"Car\", \"Tesla\", \"100 kWh\")\n",
        "print(f\"Vehicle type: {vehicle.type}\")  # Output: Vehicle type: General\n",
        "print(f\"Car brand: {car.brand}, type: {car.type}\")  # Output: Car brand: Toyota, type: Car\n",
        "print(f\"Electric car brand: {electric_car.brand}, type: {electric_car.type}, battery: {electric_car.battery_capacity}\")  # Output: Electric car brand: Tesla, type: Car, battery: 100 kWh\n"
      ],
      "metadata": {
        "id": "5FFvlxwjZ5r-"
      },
      "execution_count": null,
      "outputs": []
    },
    {
      "cell_type": "markdown",
      "source": [
        "**4.write a program to demonstrate encapsulation by creatin a class bank account with private attributes balance and methode to deposit,witthdraw, and check balance.**\n"
      ],
      "metadata": {
        "id": "Glx8pfSKZ7rC"
      }
    },
    {
      "cell_type": "code",
      "source": [
        "class BankAccount:\n",
        "    def __init__(self, initial_balance=0):\n",
        "        self.__balance = initial_balance\n",
        "\n",
        "    def deposit(self, amount):\n",
        "        if amount > 0:\n",
        "            self.__balance += amount\n",
        "            return f\"Deposited: {amount}\"\n",
        "        else:\n",
        "            return \"Deposit amount must be positive.\"\n",
        "\n",
        "    def withdraw(self, amount):\n",
        "        if 0 < amount <= self.__balance:\n",
        "            self.__balance -= amount\n",
        "            return f\"Withdrawn: {amount}\"\n",
        "        elif amount > self.__balance:\n",
        "            return \"Insufficient balance.\"\n",
        "        else:\n",
        "            return \"Withdrawal amount must be positive.\"\n",
        "\n",
        "    def check_balance(self):\n",
        "        return f\"Current balance: {self.__balance}\"\n",
        "# Example usage for BankAccount:\n",
        "account = BankAccount(100)\n",
        "print(account.deposit(50))  # Output: Deposited: 50\n",
        "print(account.withdraw(30))  # Output: Withdrawn: 30\n",
        "print(account.check_balance())  # Output: Current balance: 120\n"
      ],
      "metadata": {
        "id": "M1NFfSztbA9T"
      },
      "execution_count": null,
      "outputs": []
    },
    {
      "cell_type": "markdown",
      "source": [
        "**5.demonstrate run time polynorphism using a mehode play() in base class instrument. derive class guitar and piano that implement their own version of play().**\n"
      ],
      "metadata": {
        "id": "idlA7NXGbC1W"
      }
    },
    {
      "cell_type": "code",
      "source": [
        "class Instrument:\n",
        "    def play(self):\n",
        "        raise NotImplementedError(\"Subclasses must implement this method\")\n",
        "\n",
        "class Guitar(Instrument):\n",
        "    def play(self):\n",
        "        return \"Playing the guitar\"\n",
        "\n",
        "class Piano(Instrument):\n",
        "    def play(self):\n",
        "        return \"Playing the piano\"\n",
        "\n",
        "\n",
        "# Example usage for Instrument and polymorphism:\n",
        "instruments = [Guitar(), Piano()]\n",
        "for instrument in instruments:\n",
        "    print(instrument.play())\n",
        "    # Output:\n",
        "    # Playing the guitar\n",
        "    # Playing the piano\n"
      ],
      "metadata": {
        "id": "fhGfINg0bj7O"
      },
      "execution_count": null,
      "outputs": []
    },
    {
      "cell_type": "markdown",
      "source": [
        "**6. create a class math_operation with a class methode add__numbers() to add two numbers and a static methode subtract() to subtarct two numbers.**\n"
      ],
      "metadata": {
        "id": "eCYhDQQ9blsD"
      }
    },
    {
      "cell_type": "code",
      "source": [
        "class MathOperation:\n",
        "    @classmethod\n",
        "    def add_numbers(cls, a, b):\n",
        "        return a + b\n",
        "\n",
        "    @staticmethod\n",
        "    def subtract(a, b):\n",
        "        return a - b\n",
        "\n",
        "\n",
        "# Example usage for MathOperation:\n",
        "print(\"Addition:\", MathOperation.add_numbers(10, 5))  # Output: Addition: 15\n",
        "print(\"Subtraction:\", MathOperation.subtract(10, 5))  # Output: Subtraction: 5\n"
      ],
      "metadata": {
        "id": "-A0mh5bYjDXG"
      },
      "execution_count": null,
      "outputs": []
    },
    {
      "cell_type": "markdown",
      "source": [
        "**7. impliment a class person  wuth a clas methode to count the total number of person created**\n"
      ],
      "metadata": {
        "id": "8fK9LPiJjEbk"
      }
    },
    {
      "cell_type": "code",
      "source": [
        "class Person:\n",
        "    # Class attribute to keep track of the total number of persons created\n",
        "    total_persons = 0\n",
        "\n",
        "    def __init__(self, name):\n",
        "        self.name = name\n",
        "        Person.total_persons += 1\n",
        "\n",
        "    @classmethod\n",
        "    def get_total_persons(cls):\n",
        "        return cls.total_persons\n",
        "\n",
        "# Example usage:\n",
        "p1 = Person(\"Alice\")\n",
        "p2 = Person(\"Bob\")\n",
        "print(\"Total persons created:\", Person.get_total_persons())  # Output: Total persons created: 2\n"
      ],
      "metadata": {
        "id": "m0wfFbpEjlI1"
      },
      "execution_count": null,
      "outputs": []
    },
    {
      "cell_type": "markdown",
      "source": [
        "**8.write a cl;ass fraction with attribute numerator and denominator. override the str methode to display the fraction as numerator and denominator.**\n"
      ],
      "metadata": {
        "id": "HmCfPWZKjmTU"
      }
    },
    {
      "cell_type": "code",
      "source": [
        "class Fraction:\n",
        "    def __init__(self, numerator, denominator):\n",
        "        if denominator == 0:\n",
        "            raise ValueError(\"Denominator cannot be zero.\")\n",
        "        self.numerator = numerator\n",
        "        self.denominator = denominator\n",
        "\n",
        "    def __str__(self):\n",
        "        return f\"{self.numerator}/{self.denominator}\"\n",
        "\n",
        "# Example usage:\n",
        "f = Fraction(3, 4)\n",
        "print(f)  # Output: 3/4\n"
      ],
      "metadata": {
        "id": "N3s6bek0kIWg"
      },
      "execution_count": null,
      "outputs": []
    },
    {
      "cell_type": "markdown",
      "source": [
        "**9.demonstrate operator overloading by creating a class vector and overriding the add methode by add vector.**\n"
      ],
      "metadata": {
        "id": "TBMsvEMrkJZz"
      }
    },
    {
      "cell_type": "code",
      "source": [
        "class Vector:\n",
        "    def __init__(self, x, y):\n",
        "        \"\"\"Initialize the vector with x and y components.\"\"\"\n",
        "        self.x = x\n",
        "        self.y = y\n",
        "\n",
        "    def __add__(self, other):\n",
        "        \"\"\"Overload the + operator for vector addition.\"\"\"\n",
        "        # Ensure both objects are of type Vector\n",
        "        if isinstance(other, Vector):\n",
        "            # Add the corresponding components of the two vectors\n",
        "            return Vector(self.x + other.x, self.y + other.y)\n",
        "        else:\n",
        "            raise TypeError(\"Both operands must be instances of the Vector class\")\n",
        "\n",
        "    def __repr__(self):\n",
        "        \"\"\"Return a string representation of the vector.\"\"\"\n",
        "        return f\"Vector({self.x}, {self.y})\"\n",
        "\n",
        "# Example usage:\n",
        "# Create two Vector objects\n",
        "v1 = Vector(2, 3)\n",
        "v2 = Vector(4, 1)\n",
        "\n",
        "# Add the two vectors using the overloaded + operator\n",
        "result = v1 + v2\n",
        "\n",
        "# Print the result\n",
        "print(f\"Result of adding v1 and v2: {result}\")\n"
      ],
      "metadata": {
        "id": "hRlNk9KKkeIW"
      },
      "execution_count": null,
      "outputs": []
    },
    {
      "cell_type": "markdown",
      "source": [
        "**10.create a class person with attribute name and age. add a methode greet () that print \"hello, my name is {name} and i am {age} years old.\"**\n"
      ],
      "metadata": {
        "id": "ihtpZVBake-V"
      }
    },
    {
      "cell_type": "code",
      "source": [
        "class Person:\n",
        "    def __init__(self, name, age):\n",
        "        \"\"\"Initialize the person with a name and age.\"\"\"\n",
        "        self.name = name\n",
        "        self.age = age\n",
        "\n",
        "    def greet(self):\n",
        "        \"\"\"Print a greeting with the person's name and age.\"\"\"\n",
        "        print(f\"Hello, my name is {self.name} and I am {self.age} years old.\")\n",
        "\n",
        "# Example usage:\n",
        "# Create a Person object\n",
        "person = Person(\"Alice\", 30)\n",
        "\n",
        "# Call the greet method\n",
        "person.greet()\n"
      ],
      "metadata": {
        "id": "tXMji8e2lEac"
      },
      "execution_count": null,
      "outputs": []
    },
    {
      "cell_type": "markdown",
      "source": [
        "**11.Impliment a class student with name and grade. create a methode avarage_grade() to compute the avarage of grades.**\n"
      ],
      "metadata": {
        "id": "4AOUy0TilFMP"
      }
    },
    {
      "cell_type": "code",
      "source": [
        "class Student:\n",
        "    def __init__(self, name):\n",
        "        \"\"\"Initialize the student with a name and an empty list of grades.\"\"\"\n",
        "        self.name = name\n",
        "        self.grades = []\n",
        "\n",
        "    def add_grade(self, grade):\n",
        "        \"\"\"Add a grade to the student's list of grades.\"\"\"\n",
        "        self.grades.append(grade)\n",
        "\n",
        "    def average_grade(self):\n",
        "        \"\"\"Compute and return the average grade.\"\"\"\n",
        "        if len(self.grades) == 0:\n",
        "            return 0  # Avoid division by zero if there are no grades\n",
        "        return sum(self.grades) / len(self.grades)\n",
        "\n",
        "# Example usage:\n",
        "# Create a Student object\n",
        "student = Student(\"John Doe\")\n",
        "\n",
        "# Add grades to the student\n",
        "student.add_grade(90)\n",
        "student.add_grade(85)\n",
        "student.add_grade(78)\n",
        "\n",
        "# Calculate and print the average grade\n",
        "print(f\"{student.name}'s Average Grade: {student.average_grade():.2f}\")\n"
      ],
      "metadata": {
        "id": "-3tamjnXlfOy"
      },
      "execution_count": null,
      "outputs": []
    },
    {
      "cell_type": "markdown",
      "source": [
        "**12.create a class rectange with set_dimension() methode to set the dimension and the area() to calculate the area.**\n"
      ],
      "metadata": {
        "id": "X5PXqt9mlgAB"
      }
    },
    {
      "cell_type": "code",
      "source": [
        "class Rectangle:\n",
        "    def __init__(self, length=0, width=0):\n",
        "        # Initializes the rectangle with default length and width\n",
        "        self.length = length\n",
        "        self.width = width\n",
        "\n",
        "    def set_dimensions(self, length, width):\n",
        "        \"\"\"Set the length and width of the rectangle.\"\"\"\n",
        "        self.length = length\n",
        "        self.width = width\n",
        "\n",
        "    def area(self):\n",
        "        \"\"\"Calculate the area of the rectangle.\"\"\"\n",
        "        return self.length * self.width\n",
        "\n",
        "\n",
        "# Example usage:\n",
        "# Create a Rectangle object\n",
        "rect = Rectangle()\n",
        "\n",
        "# Set the dimensions of the rectangle\n",
        "rect.set_dimensions(5, 3)\n",
        "\n",
        "# Calculate and print the area\n",
        "print(f\"Area of the rectangle: {rect.area()} square units\")\n"
      ],
      "metadata": {
        "id": "6Ed2Jlg9l-a3"
      },
      "execution_count": null,
      "outputs": []
    },
    {
      "cell_type": "markdown",
      "source": [
        "**13.create a class employ with methode calculate _salary() that compute the salary based on hours worked and hourly rate. create a class manager that add the bonus to the salary.**\n"
      ],
      "metadata": {
        "id": "pb6GMbUtl_P0"
      }
    },
    {
      "cell_type": "code",
      "source": [
        "class Employee:\n",
        "    def __init__(self, name, hours_worked, hourly_rate):\n",
        "        self.name = name\n",
        "        self.hours_worked = hours_worked\n",
        "        self.hourly_rate = hourly_rate\n",
        "\n",
        "    def calculate_salary(self):\n",
        "        # Calculate the salary based on hours worked and hourly rate\n",
        "        return self.hours_worked * self.hourly_rate\n",
        "\n",
        "\n",
        "class Manager(Employee):\n",
        "    def __init__(self, name, hours_worked, hourly_rate, bonus):\n",
        "        super().__init__(name, hours_worked, hourly_rate)\n",
        "        self.bonus = bonus\n",
        "\n",
        "    def calculate_salary(self):\n",
        "        # Get the base salary from the Employee class and add the bonus\n",
        "        base_salary = super().calculate_salary()\n",
        "        return base_salary + self.bonus\n",
        "\n",
        "\n",
        "# Example usage:\n",
        "# Create an Employee object\n",
        "employee = Employee(\"John Doe\", 160, 25)  # 160 hours worked at $25 per hour\n",
        "print(f\"Employee Salary: ${employee.calculate_salary()}\")\n",
        "\n",
        "# Create a Manager object\n",
        "manager = Manager(\"Jane Smith\", 160, 30, 2000)  # 160 hours worked at $30 per hour with a $2000 bonus\n",
        "print(f\"Manager Salary: ${manager.calculate_salary()}\")\n"
      ],
      "metadata": {
        "id": "VybvK49PmibS"
      },
      "execution_count": null,
      "outputs": []
    },
    {
      "cell_type": "markdown",
      "source": [
        "**14.create a class product with attribute name, price and quantity.impliment a methode total_price() that calculate the total price of the product.**\n"
      ],
      "metadata": {
        "id": "HwA5scSdmjn2"
      }
    },
    {
      "cell_type": "code",
      "source": [
        "# Class Product\n",
        "class Product:\n",
        "    def __init__(self, name, price, quantity):\n",
        "        self.name = name          # Name of the product\n",
        "        self.price = price        # Price of a single unit of the product\n",
        "        self.quantity = quantity  # Quantity of the product\n",
        "\n",
        "    def total_price(self):\n",
        "        # Calculate and return the total price for the given quantity\n",
        "        return self.price * self.quantity\n",
        "\n",
        "# Example usage:\n",
        "product1 = Product(\"Laptop\", 1200, 3)\n",
        "product2 = Product(\"Phone\", 800, 5)\n",
        "\n",
        "# Get total price for each product\n",
        "print(f\"The total price for {product1.name} is: ${product1.total_price()}\")\n",
        "print(f\"The total price for {product2.name} is: ${product2.total_price()}\")"
      ],
      "metadata": {
        "id": "f9EA6EkxnC7d"
      },
      "execution_count": null,
      "outputs": []
    },
    {
      "cell_type": "markdown",
      "source": [
        "**15.create a class animal with abstract methode sound(). create two derived classes cow() and sheep() that implement the sound methode.**\n",
        "\n"
      ],
      "metadata": {
        "id": "exwiFLTMnD0h"
      }
    },
    {
      "cell_type": "code",
      "source": [
        "from abc import ABC, abstractmethod\n",
        "\n",
        "# Abstract base class Animal\n",
        "class Animal(ABC):\n",
        "\n",
        "    @abstractmethod\n",
        "    def sound(self):\n",
        "        pass  # This method must be implemented by subclasses\n",
        "\n",
        "# Derived class Cow\n",
        "class Cow(Animal):\n",
        "\n",
        "    def sound(self):\n",
        "        return \"Moo\"  # Implementing the sound method for Cow\n",
        "\n",
        "# Derived class Sheep\n",
        "class Sheep(Animal):\n",
        "\n",
        "    def sound(self):\n",
        "        return \"Baa\"  # Implementing the sound method for Sheep\n",
        "\n",
        "# Example usage:\n",
        "cow = Cow()\n",
        "sheep = Sheep()\n",
        "\n",
        "print(f\"The cow says: {cow.sound()}\")\n",
        "print(f\"The sheep says: {sheep.sound()}\")"
      ],
      "metadata": {
        "id": "CYidpeILng9G"
      },
      "execution_count": null,
      "outputs": []
    },
    {
      "cell_type": "markdown",
      "source": [
        "**16.create a class book with attribute author, title and year_published. add a methode get_book_info() that return a formatted string to the book details.**\n"
      ],
      "metadata": {
        "id": "_o4TV8Kunwd9"
      }
    },
    {
      "cell_type": "code",
      "source": [
        "# Class Book\n",
        "class Book:\n",
        "    def __init__(self, author, title, year_published):\n",
        "        self.author = author              # The author of the book\n",
        "        self.title = title                # The title of the book\n",
        "        self.year_published = year_published  # The year the book was published\n",
        "\n",
        "    def get_book_info(self):\n",
        "        # Returns a formatted string with the book details\n",
        "        return f\"Title: '{self.title}'\\nAuthor: {self.author}\\nYear Published: {self.year_published}\"\n",
        "\n",
        "# Example usage:\n",
        "book1 = Book(\"George Orwell\", \"1984\", 1949)\n",
        "book2 = Book(\"J.K. Rowling\", \"Harry Potter and the Philosopher's Stone\", 1997)\n",
        "\n",
        "# Get book info:\n",
        "print(book1.get_book_info())\n",
        "print(\"\\n\")\n",
        "print(book2.get_book_info())"
      ],
      "metadata": {
        "id": "yHEvWU2xoVcH"
      },
      "execution_count": null,
      "outputs": []
    },
    {
      "cell_type": "markdown",
      "source": [
        "**17.create a class house with attribute address and price.create a class mension that add a attribute number_of _rooms.**\n"
      ],
      "metadata": {
        "id": "APJSugM6oaKZ"
      }
    },
    {
      "cell_type": "code",
      "source": [
        "# Base class House\n",
        "class House:\n",
        "    def __init__(self, address, price):\n",
        "        self.address = address  # The address of the house\n",
        "        self.price = price      # The price of the house\n",
        "\n",
        "    def display_info(self):\n",
        "        return f\"Address: {self.address}, Price: ${self.price}\"\n",
        "\n",
        "# Derived class Mansion (inherits from House)\n",
        "class Mansion(House):\n",
        "    def __init__(self, address, price, number_of_rooms):\n",
        "        # Call the constructor of the parent class (House)\n",
        "        super().__init__(address, price)\n",
        "        self.number_of_rooms = number_of_rooms  # The number of rooms in the mansion\n",
        "\n",
        "    def display_info(self):\n",
        "        # Call the base class display_info and add number of rooms\n",
        "        return f\"{super().display_info()}, Number of Rooms: {self.number_of_rooms}\"\n"
      ],
      "metadata": {
        "id": "cPLlFicQo0y3"
      },
      "execution_count": null,
      "outputs": []
    }
  ]
}