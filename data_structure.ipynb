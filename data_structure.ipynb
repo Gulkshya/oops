{
  "nbformat": 4,
  "nbformat_minor": 0,
  "metadata": {
    "colab": {
      "provenance": [],
      "authorship_tag": "ABX9TyMVb72wVBxDcL3EU6ZV8Lt2",
      "include_colab_link": true
    },
    "kernelspec": {
      "name": "python3",
      "display_name": "Python 3"
    },
    "language_info": {
      "name": "python"
    }
  },
  "cells": [
    {
      "cell_type": "markdown",
      "metadata": {
        "id": "view-in-github",
        "colab_type": "text"
      },
      "source": [
        "<a href=\"https://colab.research.google.com/github/Gulkshya/oops/blob/main/data_structure.ipynb\" target=\"_parent\"><img src=\"https://colab.research.google.com/assets/colab-badge.svg\" alt=\"Open In Colab\"/></a>"
      ]
    },
    {
      "cell_type": "code",
      "execution_count": null,
      "metadata": {
        "id": "llJ4QriA8-QF"
      },
      "outputs": [],
      "source": []
    },
    {
      "cell_type": "markdown",
      "source": [
        "#1. what are data structure and why are they important?\n",
        "\n",
        ">A data structure is a way to store, organize, and manipulate data on a computer. Data structures are important because they help programmers manage large amounts of data efficiently.\n",
        "\n",
        ">Why are data structures important?\n",
        "*  Efficient data management:\n",
        "Data structures help programmers store, organize, and retrieve data efficiently.\n",
        "* Efficient code:\n",
        "Data structures help programmers optimize their code and make it more efficient.\n",
        "* Essential for programming:\n",
        "Data structures are essential for programmers to learn and implement in order to improve their coding skills.\n",
        "Examples of data structures\n",
        "* Arrays:\n",
        "A basic data structure that stores similar data items in adjacent memory locations.\n",
        "* Hash tables:\n",
        "A data structure that uses a hash function to map keys to specific locations for efficient retrieval.\n",
        "* Heaps:\n",
        "A binary tree-based data structure that is used in priority queues and sorting algorithms.\n",
        "* Tree data structures:\n",
        "A non-linear data structure that emulates a tree structure with a set of linked node.\n",
        "\n",
        "# 2.Explain the difference b/w mutable and immutable data types with example?\n",
        "\n",
        "> Mutable data types:\n",
        "These data types can be changed after they are created. For example, in Python, lists, dictionaries, and sets are mutable data types.\n",
        "\n",
        ">Immutable data types:\n",
        "These data types cannot be changed after they are created. For example, in Python, strings and tuples are immutable data types.\n",
        "\n",
        "> Mutable data type example:\n",
        "In a customer database, phone numbers and addresses are mutable data because they can be changed when a customer's details change.\n",
        "\n",
        ">Immutable data type example:\n",
        "In Python, strings are immutable data types because they cannot be changed after they are created.\n",
        "\n",
        "# 3.what are the main difference b/w list and tuple?\n",
        "\n",
        "> The main difference between tuples and lists is that tuples are immutable, meaning their contents cannot be changed after creation, while lists are mutable and can be modified. Additionally, tuples are more memory-efficient compared to lists. Tuples can't be changed after they're created, but lists can be modified.\n",
        "\n",
        "# 4.Describe how dictionary store data?\n",
        "\n",
        ">Dictionaries are used to store data values in key:value pairs. A dictionary is a collection which is ordered*, changeable and do not allow duplicates.\n",
        "\n",
        "# 5. why might a set is used instead of list in python?\n",
        "\n",
        ">In Python, you might use a set instead of a list when you want to store unique values or perform math operations. Sets are unordered and automatically remove duplicate values, while lists are ordered and can contain duplicates.\n",
        "\n",
        "# 6.What is string and how it is different from list?\n",
        "\n",
        "> A string is a sequence of characters between single or double quotes. A list is a sequence of items, where each item could be anything (an integer, a float, a string, etc).\n",
        "\n",
        "# 7.How do tuple sure data intigrity in python?\n",
        "\n",
        ">Tuples are an essential data structure in Python, representing an immutable, ordered collection of elements. They are similar to lists but with a key difference: once a tuple is created, its contents cannot be changed. This immutability makes tuples a reliable choice for storing fixed collections of data.\n",
        "\n",
        "# 8 What is hash table and how it is relate to dictionary?\n",
        "\n",
        ">A hash table is a data structure that stores key-value pairs, and a dictionary is a type of hash table. Hash tables are also known as associative array.\n",
        "\n",
        "# 9.Can list contain different data type in python?\n",
        "\n",
        ">lists can contain heterogeneous data types and objects. For instance, integers, strings, and even functions can be stored within the same list.\n",
        "\n",
        "# 10.Explain why string are immutable?\n",
        "\n",
        ">Strings in Python are “immutable” which means they can not be changed after they are created. Some other immutable data types are integers, float, boolean, etc. The immutability of Python string is very useful as it helps in hashing, performance optimization, safety, ease of use, etc.\n",
        "\n",
        "# 11.What advantage to dictionary offer over to certain task of list?\n",
        "\n",
        ">Lists are used when it is important to maintain the order of the elements and dealing with data that may get changed in the future. Therefore the correct option is it's quicker and easier to find a specific element in a dictionary.\n",
        "\n",
        "# 12.Describe a scenrio where  using a tuple is preffereable over the list?\n",
        "\n",
        ">A tuple is preferable over other data structures in Python in scenarios where immutability, faster performance, or lightweight storage is important.\n",
        "Here's a specific example:\n",
        "\n",
        ">Scenario: Representing Fixed Geographic Coordinates.\n",
        "\n",
        ">\n",
        "Imagine you're developing a mapping application where you need to store the latitude and longitude of various landmarks. Since the geographic coordinates of a landmark are fixed and should not be altered during the application's runtime, a tuple is an ideal choice.\n",
        "\n",
        "#13.How do sets handle duplicate values in python?\n",
        "\n",
        ">Items of a set in python are immutable (unchangeable), do not duplicate values, and unordered. Thus, items in a set do not appear in a stipulated manner, i.e., they can appear in a different order every time it is used. Due to this, set items cannot be referred to by key or index.\n",
        "\n",
        "# 14.How does the \"in\" keyword works different for lists and dictionary?\n",
        ">Use in with lists when you want to check if a specific element exists.\n",
        "\n",
        ">Use in with dictionaries to check for the existence of keys (or values using .values() explicitly).\n",
        "\n",
        "# 15. Can you modify the eelement of a tuple, explain why and why not?\n",
        "\n",
        ">No, you cannot modify the elements of a tuple in Python because tuples are immutable. This means once a tuple is created, its elements cannot be changed, added, or removed. Here's why:\n",
        "\n",
        ">Why Tuples are Immutable:\n",
        "\n",
        "* Fixed Structure:\n",
        "A tuple is designed to represent a collection of items that should remain constant throughout the program.\n",
        "This immutability ensures that the data remains reliable and prevents accidental modifications.\n",
        "Hashable by Design (if elements are immutable):\n",
        "\n",
        "* Tuples are often used as keys in dictionaries or stored in sets. Immutability ensures they are hashable (only if all their elements are hashable).\n",
        "* Performance Optimization:\n",
        "The immutability of tuples allows Python to optimize memory usage and access speeds, making them more efficient than mutable collections like lists.\n",
        "\n",
        "# 16.What is a nested dictionary give an example of its use case?\n",
        "\n",
        ">A nested dictionary in Python is a dictionary where some or all of the values are themselves dictionaries. This structure is useful for representing hierarchical or structured data, such as information with multiple levels of categorization.\n",
        "\n",
        "\n",
        ">Example and Use Case: Representing a Student Database\n",
        "Imagine you're building a system to store information about students in a school. Each student has their own record containing details like their name, age, and grades. A nested dictionary can be used to organize this data efficiently.\n",
        "\n",
        "# 17.describe the time complexity to accessing a element in dictionary?\n",
        "\n",
        ">On average, accessing an element in a dictionary is O(1), making it extremely efficient.\n",
        "\n",
        ">In rare cases of hash collisions, the time complexity can degrade to O(n), but Python's robust hash table implementation minimizes this likelihood.\n",
        "\n",
        "#18.In what situation list is prefferable over the dictionary?\n",
        "\n",
        ">Lists maintain order of elements, while dictionaries () did not guarantee order.\n",
        "> Even though modern dictionaries are ordered, lists are still more natural for sequential or positional data.\n",
        ">Example:\n",
        "* Storing a sequence of numbers or items.\n",
        "\n",
        "# 19.why are dictionary consider unorder, how does that affect on data retrival?\n",
        "\n",
        ">Why Were Dictionaries Historically Unordered?\n",
        "* Hash Table Implementation:\n",
        "Dictionaries are implemented as hash tables.\n",
        "The keys are hashed to determine their storage location in memory. This means the physical order of keys in the memory depends on their hash values, not the order in which they were added.\n",
        "* Efficiency Focus:\n",
        "The primary focus of dictionaries is on fast key lookups (average O(1) complexity). Maintaining an order would require additional overhead for tracking insertion sequence, which could impact performance and memory efficiency.\n",
        "\n",
        ">Effect on Data Retrieval:\n",
        "Retrieving elements in the order they were inserted is now predictable.\n",
        "This makes dictionaries suitable for scenarios where both key-value association and order are required.\n",
        "\n",
        "# 20.Explain the difference b/w a list and a dictionary in the term of data retrival?\n",
        "\n",
        ">Lists are best for ordered collections where elements are retrieved by their position.\n",
        "\n",
        ">Dictionaries are best for collections where elements are associated with unique keys, enabling retrieval based on descriptive identifiers rather than numeric indices.\n",
        "\n",
        "# Practical Question**\n",
        "\n",
        "\n",
        "\n",
        "\n",
        "\n"
      ],
      "metadata": {
        "id": "JI3agvnW9Ils"
      }
    },
    {
      "cell_type": "markdown",
      "source": [
        "**1.write a code to create a string of your name and print it.**\n"
      ],
      "metadata": {
        "id": "9plI5nbcU0MB"
      }
    },
    {
      "cell_type": "code",
      "source": [
        "str_1=\"my name is gulkshya!!\"\n",
        "print(str_1)"
      ],
      "metadata": {
        "colab": {
          "base_uri": "https://localhost:8080/"
        },
        "id": "nrVNxbQVjy15",
        "outputId": "f623bd07-dca7-4cf7-a6f2-12d4b8ac6056"
      },
      "execution_count": 1,
      "outputs": [
        {
          "output_type": "stream",
          "name": "stdout",
          "text": [
            "my name is gulkshya!!\n"
          ]
        }
      ]
    },
    {
      "cell_type": "markdown",
      "source": [
        "**2.write a code to find the length of code \"hello world\".**\n"
      ],
      "metadata": {
        "id": "pje9og5KkAjV"
      }
    },
    {
      "cell_type": "code",
      "source": [
        "str_1=\"hello world\"\n",
        "print(len(str_1))"
      ],
      "metadata": {
        "colab": {
          "base_uri": "https://localhost:8080/"
        },
        "id": "5ijcc7HBkRDu",
        "outputId": "1bb3bed5-b7e2-4514-96b6-09fb6e363b59"
      },
      "execution_count": 2,
      "outputs": [
        {
          "output_type": "stream",
          "name": "stdout",
          "text": [
            "11\n"
          ]
        }
      ]
    },
    {
      "cell_type": "markdown",
      "source": [
        "**3.write a code to slice the first three character of \"python programmimg\".**\n"
      ],
      "metadata": {
        "id": "dsZ1jw3mkbyL"
      }
    },
    {
      "cell_type": "code",
      "source": [
        "str_1=\"python programming\"\n",
        "print(str_1[0:3])"
      ],
      "metadata": {
        "colab": {
          "base_uri": "https://localhost:8080/"
        },
        "id": "TQbjM07skskx",
        "outputId": "721986f7-3399-4449-f98b-401ba8f0c121"
      },
      "execution_count": 4,
      "outputs": [
        {
          "output_type": "stream",
          "name": "stdout",
          "text": [
            "pyt\n"
          ]
        }
      ]
    },
    {
      "cell_type": "markdown",
      "source": [
        "**4.write a code to convert the string\"hello\" in uppercase.**\n"
      ],
      "metadata": {
        "id": "D7icszs9lGmJ"
      }
    },
    {
      "cell_type": "code",
      "source": [
        "str_1=\"hello\"\n",
        "print(str_1.upper())"
      ],
      "metadata": {
        "colab": {
          "base_uri": "https://localhost:8080/"
        },
        "id": "DuL7U5-XlXI1",
        "outputId": "6ee79b50-b002-461b-d61d-6b64965548c7"
      },
      "execution_count": 5,
      "outputs": [
        {
          "output_type": "stream",
          "name": "stdout",
          "text": [
            "HELLO\n"
          ]
        }
      ]
    },
    {
      "cell_type": "markdown",
      "source": [
        "**5.write a code to replace the word apple into orange,\"I like apple\".**\n"
      ],
      "metadata": {
        "id": "e5oCCoDJllXa"
      }
    },
    {
      "cell_type": "code",
      "source": [
        "str_1=\"I like apple\"\n",
        "str_2=str_1.replace(\"apple\",\"orange\")\n",
        "print(str_2)"
      ],
      "metadata": {
        "colab": {
          "base_uri": "https://localhost:8080/"
        },
        "id": "2t_V7o-RmBTb",
        "outputId": "46c1b34a-c097-4b90-e252-afbb2ce68bc2"
      },
      "execution_count": 6,
      "outputs": [
        {
          "output_type": "stream",
          "name": "stdout",
          "text": [
            "I like orange\n"
          ]
        }
      ]
    },
    {
      "cell_type": "markdown",
      "source": [
        "**6.Write a code to create a list 1 to 5 and print it.**\n"
      ],
      "metadata": {
        "id": "Ali_yUg4mYge"
      }
    },
    {
      "cell_type": "code",
      "source": [
        "for list_1 in range(1,6):\n",
        "  print(list_1)"
      ],
      "metadata": {
        "colab": {
          "base_uri": "https://localhost:8080/"
        },
        "id": "jRPa6qM8mvgm",
        "outputId": "36a6b7c1-ee33-4d2c-d077-6f81076194f2"
      },
      "execution_count": 7,
      "outputs": [
        {
          "output_type": "stream",
          "name": "stdout",
          "text": [
            "1\n",
            "2\n",
            "3\n",
            "4\n",
            "5\n"
          ]
        }
      ]
    },
    {
      "cell_type": "markdown",
      "source": [
        "**7.Write a code to append the number 10 in list[1,2,3,4]**"
      ],
      "metadata": {
        "id": "azk2WWdGnHLb"
      }
    },
    {
      "cell_type": "code",
      "source": [
        "list_1=[1,2,3,4]\n",
        "list_1.append(10)\n",
        "print(list_1)"
      ],
      "metadata": {
        "colab": {
          "base_uri": "https://localhost:8080/"
        },
        "id": "_BO30OXNnWTB",
        "outputId": "e4cdbf93-62ad-44b9-db05-649c8afa6eb6"
      },
      "execution_count": 9,
      "outputs": [
        {
          "output_type": "stream",
          "name": "stdout",
          "text": [
            "[1, 2, 3, 4, 10]\n"
          ]
        }
      ]
    },
    {
      "cell_type": "markdown",
      "source": [
        "**8.write a code to remove number three from list[1,2,3,4,5].**\n"
      ],
      "metadata": {
        "id": "AWiJY9YznsGg"
      }
    },
    {
      "cell_type": "code",
      "source": [
        "list_1=[1,2,3,4,5]\n",
        "list_1.remove(3)\n",
        "print(list_1)"
      ],
      "metadata": {
        "colab": {
          "base_uri": "https://localhost:8080/"
        },
        "id": "atRcobIUoAYd",
        "outputId": "232d4f3d-bd11-4e75-81da-ac44bc670a6b"
      },
      "execution_count": 10,
      "outputs": [
        {
          "output_type": "stream",
          "name": "stdout",
          "text": [
            "[1, 2, 4, 5]\n"
          ]
        }
      ]
    },
    {
      "cell_type": "markdown",
      "source": [
        "**9.Write a code to access the second element from list [\"a\",\"b\",\"c\",\"d\"]**\n"
      ],
      "metadata": {
        "id": "KmJw9nLNoLk9"
      }
    },
    {
      "cell_type": "code",
      "source": [
        "list_1=[\"a\",\"b\",\"c\",\"d\"]\n",
        "print(list_1[1])"
      ],
      "metadata": {
        "colab": {
          "base_uri": "https://localhost:8080/"
        },
        "id": "z4EF-eUZooJV",
        "outputId": "ddfe5e82-a0fd-46a3-dee9-6216bc9f2880"
      },
      "execution_count": 12,
      "outputs": [
        {
          "output_type": "stream",
          "name": "stdout",
          "text": [
            "b\n"
          ]
        }
      ]
    },
    {
      "cell_type": "markdown",
      "source": [
        "**10.Write a code to reverse the list[10,20,30,40,50]**\n"
      ],
      "metadata": {
        "id": "DFA_YsRWpCGw"
      }
    },
    {
      "cell_type": "code",
      "source": [
        "list_1=[10,20,30,40,50]\n",
        "print(list_1[::-1])"
      ],
      "metadata": {
        "colab": {
          "base_uri": "https://localhost:8080/"
        },
        "id": "fPkkiAhNpSYZ",
        "outputId": "5c3e6a20-79cf-413c-aefe-5d8cdf1f23dc"
      },
      "execution_count": 13,
      "outputs": [
        {
          "output_type": "stream",
          "name": "stdout",
          "text": [
            "[50, 40, 30, 20, 10]\n"
          ]
        }
      ]
    },
    {
      "cell_type": "code",
      "source": [],
      "metadata": {
        "id": "ai_dZy9uojsg"
      },
      "execution_count": null,
      "outputs": []
    }
  ]
}